{
  "nbformat": 4,
  "nbformat_minor": 0,
  "metadata": {
    "colab": {
      "name": "Copy of randomForrest.ipynb",
      "provenance": [],
      "collapsed_sections": [],
      "toc_visible": true,
      "include_colab_link": true
    },
    "kernelspec": {
      "display_name": "Python 3",
      "language": "python",
      "name": "python3"
    },
    "language_info": {
      "codemirror_mode": {
        "name": "ipython",
        "version": 3
      },
      "file_extension": ".py",
      "mimetype": "text/x-python",
      "name": "python",
      "nbconvert_exporter": "python",
      "pygments_lexer": "ipython3",
      "version": "3.8.5"
    }
  },
  "cells": [
    {
      "cell_type": "markdown",
      "metadata": {
        "id": "view-in-github",
        "colab_type": "text"
      },
      "source": [
        "<a href=\"https://colab.research.google.com/github/paul080791/lime/blob/master/Copy_of_randomForrest.ipynb\" target=\"_parent\"><img src=\"https://colab.research.google.com/assets/colab-badge.svg\" alt=\"Open In Colab\"/></a>"
      ]
    },
    {
      "cell_type": "code",
      "metadata": {
        "colab": {
          "base_uri": "https://localhost:8080/"
        },
        "id": "ISvcEiTZ1QnP",
        "outputId": "0b08209f-8695-4d4b-af13-11436750dd3c"
      },
      "source": [
        "#load data \n",
        "import pandas as pd\n",
        "import numpy as np\n",
        "import requests \n",
        "import tarfile\n",
        "import os \n",
        "import gensim\n",
        "import gensim.downloader\n",
        "from sklearn.ensemble import RandomForestClassifier\n",
        "from sklearn.model_selection import train_test_split\n",
        "from sklearn.metrics import classification_report, confusion_matrix, accuracy_score\n",
        "\n",
        "url = \"https://www.cs.jhu.edu/~mdredze/datasets/sentiment/processed_acl.tar.gz\"\n",
        "filename = \"processed_acl\"\n",
        "extension = \".tar.gz\"\n",
        "\n",
        "response = requests.get(url, allow_redirects=True)\n",
        "\n",
        "print(\"http response:\",response.status_code,response.reason)\n",
        "\n",
        "with open(filename+extension,\"wb\") as file: \n",
        "    file.write(response.content)\n",
        "    \n",
        "tar = tarfile.open(filename+extension, \"r:gz\")\n",
        "tar.extractall()\n",
        "tar.close()\n",
        "# # merge files using shell commands \n",
        "print(os.popen(\"cat \" + filename+\"/books/negative.review > mixed.txt\").read())\n",
        "print(os.popen(\"cat \" + filename+\"/books/positive.review >> mixed.txt\").read())\n",
        "# print(os.popen(\"cat \" + filename+\"/dvd/all.review >> mixed.txt\").read())\n",
        "# print(os.popen(\"cat \" + filename+\"/dvd/positive.review >> mixed.txt\").read())\n",
        "\n",
        "\n",
        "\n",
        "# parse data into array for word 2 vect \n",
        "dataArray = []\n",
        "labelArray = []\n",
        "\n",
        "with open(\"mixed.txt\", \"r\") as datafile: \n",
        "    lines = datafile.readlines()\n",
        "    for e in lines:\n",
        "        lineList= []\n",
        "        splitLine = e.split()\n",
        "        label = splitLine.pop(-1)\n",
        "        for i in splitLine:\n",
        "            dictSplit = i.split(':')\n",
        "            lineList.append(dictSplit[0])\n",
        "        dataArray.insert(-1, lineList)\n",
        "        labelArray.insert(-1, (label.split(':')[1]))\n",
        "len(dataArray)"
      ],
      "execution_count": 35,
      "outputs": [
        {
          "output_type": "stream",
          "text": [
            "http response: 200 OK\n",
            "\n",
            "\n"
          ],
          "name": "stdout"
        },
        {
          "output_type": "execute_result",
          "data": {
            "text/plain": [
              "2000"
            ]
          },
          "metadata": {
            "tags": []
          },
          "execution_count": 35
        }
      ]
    },
    {
      "cell_type": "code",
      "metadata": {
        "colab": {
          "base_uri": "https://localhost:8080/"
        },
        "id": "t5WWhGNC1QnS",
        "outputId": "6be4f64c-100d-4114-ce0f-04a2b99c7566"
      },
      "source": [
        "#  dl tubspam data set \n",
        "# load into numpy array \n",
        "# create embedings on full text \n",
        "# use classifier to classify the dataset \n",
        "\n",
        "url = \"https://archive.ics.uci.edu/ml/machine-learning-databases/00380/YouTube-Spam-Collection-v1.zip\"\n",
        "!wget  -c \"https://archive.ics.uci.edu/ml/machine-learning-databases/00380/YouTube-Spam-Collection-v1.zip\"#download it\n",
        "\n",
        "\n",
        "!unzip -o YouTube-Spam-Collection-v1.zip\n",
        "df1 = pd.read_csv(\"/content/Youtube01-Psy.csv\")\n",
        "df2 = pd.read_csv(\"/content/Youtube02-KatyPerry.csv\")\n",
        "df3 = pd.read_csv(\"/content/Youtube03-LMFAO.csv\")\n",
        "df4 = pd.read_csv(\"/content/Youtube04-Eminem.csv\")\n",
        "df5 = pd.read_csv(\"/content/Youtube05-Shakira.csv\")\n",
        "\n",
        "df = pd.concat([df1, df2,df3,df4,df5], axis=0, join='inner')\n",
        "dataArray = []\n",
        "labelArray = []\n",
        "\n",
        "dataArray= df['CONTENT'].values\n",
        "labelArray= df['CLASS'].values\n",
        "\n",
        "\n",
        "#download word2vec model          \n",
        "word2vec = gensim.downloader.load('fasttext-wiki-news-subwords-300')\n",
        "\n",
        "\n",
        "# create mean embedding \n",
        "embed = np.array([ np.mean([word2vec[w] for w in words if w in word2vec], axis=0) for words in dataArray])\n",
        "\n",
        "X_train, X_test, y_train, y_test = train_test_split(embed, labelArray, test_size=0.2, random_state=42)\n",
        "\n",
        "text_classifier = RandomForestClassifier(n_estimators=700, random_state=42)\n",
        "text_classifier.fit(X_train, y_train)\n",
        "\n",
        "predictions = text_classifier.predict(X_test)\n",
        "\n",
        "from sklearn.metrics import classification_report, confusion_matrix, accuracy_score\n",
        "\n",
        "print(confusion_matrix(y_test,predictions))\n",
        "print(classification_report(y_test,predictions))\n",
        "print(accuracy_score(y_test, predictions))\n",
        "\n",
        "\n"
      ],
      "execution_count": 41,
      "outputs": [
        {
          "output_type": "stream",
          "text": [
            "--2021-04-24 02:52:30--  https://archive.ics.uci.edu/ml/machine-learning-databases/00380/YouTube-Spam-Collection-v1.zip\n",
            "Resolving archive.ics.uci.edu (archive.ics.uci.edu)... 128.195.10.252\n",
            "Connecting to archive.ics.uci.edu (archive.ics.uci.edu)|128.195.10.252|:443... connected.\n",
            "HTTP request sent, awaiting response... 416 Requested Range Not Satisfiable\n",
            "\n",
            "    The file is already fully retrieved; nothing to do.\n",
            "\n",
            "--2021-04-24 02:52:30--  http://it/\n",
            "Resolving it (it)... failed: No address associated with hostname.\n",
            "wget: unable to resolve host address ‘it’\n",
            "Archive:  YouTube-Spam-Collection-v1.zip\n",
            "  inflating: Youtube01-Psy.csv       \n",
            "  inflating: __MACOSX/._Youtube01-Psy.csv  \n",
            "  inflating: Youtube02-KatyPerry.csv  \n",
            "  inflating: __MACOSX/._Youtube02-KatyPerry.csv  \n",
            "  inflating: Youtube03-LMFAO.csv     \n",
            "  inflating: __MACOSX/._Youtube03-LMFAO.csv  \n",
            "  inflating: Youtube04-Eminem.csv    \n",
            "  inflating: __MACOSX/._Youtube04-Eminem.csv  \n",
            "  inflating: Youtube05-Shakira.csv   \n",
            "  inflating: __MACOSX/._Youtube05-Shakira.csv  \n",
            "[[160  16]\n",
            " [ 40 176]]\n",
            "              precision    recall  f1-score   support\n",
            "\n",
            "           0       0.80      0.91      0.85       176\n",
            "           1       0.92      0.81      0.86       216\n",
            "\n",
            "    accuracy                           0.86       392\n",
            "   macro avg       0.86      0.86      0.86       392\n",
            "weighted avg       0.86      0.86      0.86       392\n",
            "\n",
            "0.8571428571428571\n"
          ],
          "name": "stdout"
        }
      ]
    },
    {
      "cell_type": "markdown",
      "metadata": {
        "id": "g1bqvZSIanIi"
      },
      "source": [
        "# New Section"
      ]
    },
    {
      "cell_type": "markdown",
      "metadata": {
        "id": "UwyjhmKE3J9u"
      },
      "source": [
        "# New Section"
      ]
    },
    {
      "cell_type": "code",
      "metadata": {
        "id": "JalmA7ayZqmX",
        "colab": {
          "base_uri": "https://localhost:8080/"
        },
        "outputId": "c50bef34-0b3c-4366-d4cc-d6af14e7f618"
      },
      "source": [
        "\n"
      ],
      "execution_count": 2,
      "outputs": [
        {
          "output_type": "stream",
          "text": [
            "bash: cannot set terminal process group (61): Inappropriate ioctl for device\n",
            "bash: no job control in this shell\n",
            "\u001b[01;34m/content\u001b[00m# * -m\n",
            "bash: sample_data: command not found\n",
            "\u001b[01;34m/content\u001b[00m# ls\n",
            "\u001b[0m\u001b[01;34msample_data\u001b[0m\n",
            "\u001b[01;34m/content\u001b[00m# -m \n",
            "bash: -m: command not found\n",
            "\u001b[01;34m/content\u001b[00m# !git commit -m “first commit”\n",
            "bash: !git: event not found\n",
            "\u001b[01;34m/content\u001b[00m# \n",
            "\u001b[01;34m/content\u001b[00m# \n",
            "\u001b[01;34m/content\u001b[00m# \n",
            "\u001b[01;34m/content\u001b[00m# exit\n"
          ],
          "name": "stdout"
        }
      ]
    }
  ]
}